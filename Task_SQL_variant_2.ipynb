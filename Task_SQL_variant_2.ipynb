{
 "cells": [
  {
   "attachments": {},
   "cell_type": "markdown",
   "metadata": {},
   "source": [
    "## Задание 2. SQL"
   ]
  },
  {
   "cell_type": "code",
   "execution_count": 5,
   "metadata": {},
   "outputs": [],
   "source": [
    "# импортируем нужные библиотеки\n",
    "import pandahouse as ph"
   ]
  },
  {
   "cell_type": "code",
   "execution_count": 9,
   "metadata": {},
   "outputs": [],
   "source": [
    "# для подключения к таблице default в clickhouse:\n",
    "connection_default = {'host': 'http://clickhouse.beslan.pro:8080',\n",
    "                      'database': 'default',\n",
    "                      'user': 'student', \n",
    "                      'password': 'dpo_python_2020'}"
   ]
  },
  {
   "cell_type": "markdown",
   "metadata": {},
   "source": [
    "### 2.1 Очень усердные ученики.\n",
    "\n",
    "2.1.1 Условие\n",
    "\n",
    "Образовательные курсы состоят из различных уроков, каждый из которых состоит из нескольких маленьких заданий. Каждое такое маленькое задание называется \"горошиной\".\n",
    "\n",
    "Назовём очень усердным учеником того пользователя, который хотя бы раз за текущий месяц правильно решил 20 горошин.\n",
    "\n",
    "2.1.2 Задача\n",
    "\n",
    "Необходимо написать оптимальный запрос, который даст информацию о количестве очень усердных студентов.\n",
    "\n"
   ]
  },
  {
   "cell_type": "markdown",
   "metadata": {},
   "source": [
    "#### Решение"
   ]
  },
  {
   "cell_type": "markdown",
   "metadata": {},
   "source": [
    "Перед запросом я проверила за какой период представлены данные в таблице, так как нужно получить результат именно за текущий месяц. Так как данные представлены только за один месяц, то в основном запросе корректировка не требуется, тем более в задании не сказано что такое текущий месяц. \n",
    "\n",
    "Запрос который использовала для проверки месяца:\n",
    "- select min(timest), max(timest), st_id\n",
    "- from peas  \n",
    "- group by st_id"
   ]
  },
  {
   "cell_type": "code",
   "execution_count": 10,
   "metadata": {},
   "outputs": [
    {
     "data": {
      "text/html": [
       "<div>\n",
       "<style scoped>\n",
       "    .dataframe tbody tr th:only-of-type {\n",
       "        vertical-align: middle;\n",
       "    }\n",
       "\n",
       "    .dataframe tbody tr th {\n",
       "        vertical-align: top;\n",
       "    }\n",
       "\n",
       "    .dataframe thead th {\n",
       "        text-align: right;\n",
       "    }\n",
       "</style>\n",
       "<table border=\"1\" class=\"dataframe\">\n",
       "  <thead>\n",
       "    <tr style=\"text-align: right;\">\n",
       "      <th></th>\n",
       "      <th>count(st_id)</th>\n",
       "    </tr>\n",
       "  </thead>\n",
       "  <tbody>\n",
       "    <tr>\n",
       "      <th>0</th>\n",
       "      <td>136</td>\n",
       "    </tr>\n",
       "  </tbody>\n",
       "</table>\n",
       "</div>"
      ],
      "text/plain": [
       "   count(st_id)\n",
       "0           136"
      ]
     },
     "execution_count": 10,
     "metadata": {},
     "output_type": "execute_result"
    }
   ],
   "source": [
    "# Оптимальный запрос о количестве учеников\n",
    "\n",
    "# пишем запрос, и получаем данные из clickhouse в pandas dataframe\n",
    "query = \"\"\"\n",
    "with students as (   \n",
    "    select st_id, count(timest)\n",
    "    from peas\n",
    "    where correct = 1\n",
    "    group by st_id\n",
    "    having count(timest) > 19)\n",
    "    \n",
    "select count(st_id) from students\n",
    "\"\"\"\n",
    "students_1 = ph.read_clickhouse(query, connection=connection_default)\n",
    "students_1"
   ]
  },
  {
   "cell_type": "code",
   "execution_count": null,
   "metadata": {},
   "outputs": [],
   "source": []
  },
  {
   "cell_type": "markdown",
   "metadata": {},
   "source": [
    "### 2.2 Оптимизация воронки\n",
    "\n",
    "2.2.1 Условие\n",
    "\n",
    "Образовательная платформа предлагает пройти студентам курсы по модели trial: студент может решить бесплатно лишь 30 горошин в день. Для неограниченного количества заданий в определенной дисциплине студенту необходимо приобрести полный доступ. Команда провела эксперимент, где был протестирован новый экран оплаты.\n",
    "\n",
    "2.2.2 Задача\n",
    "\n",
    "Необходимо в одном запросе выгрузить следующую информацию о группах пользователей:\n",
    "\n",
    "- ARPU \n",
    "- ARPAU \n",
    "- CR в покупку \n",
    "- СR активного пользователя в покупку \n",
    "- CR пользователя из активности по математике (subject = ’math’) в покупку курса по математике\n",
    "\n",
    "ARPU считается относительно всех пользователей, попавших в группы.\n",
    "\n",
    "Активным считается пользователь, за все время решивший больше 10 задач правильно в любых дисциплинах.\n",
    "\n",
    "Активным по математике считается пользователь, за все время решивший 2 или больше задач правильно по математике."
   ]
  },
  {
   "cell_type": "markdown",
   "metadata": {},
   "source": [
    "#### Решение"
   ]
  },
  {
   "cell_type": "markdown",
   "metadata": {},
   "source": [
    "Определим некоторые метрики: \n",
    "- ARPU считается, как средний доход с привлечённого пользователя\n",
    "- ARPAU считается, как средний доход с привлечённого активного пользователя\n",
    "- CR в покупку считается, как отношение пользователей купивших полный доступ к общему числу пользователей (остальные CR считаются так же, но с дополнительной корректировкой, обозначенной в условии). "
   ]
  },
  {
   "cell_type": "code",
   "execution_count": 11,
   "metadata": {},
   "outputs": [
    {
     "data": {
      "text/html": [
       "<div>\n",
       "<style scoped>\n",
       "    .dataframe tbody tr th:only-of-type {\n",
       "        vertical-align: middle;\n",
       "    }\n",
       "\n",
       "    .dataframe tbody tr th {\n",
       "        vertical-align: top;\n",
       "    }\n",
       "\n",
       "    .dataframe thead th {\n",
       "        text-align: right;\n",
       "    }\n",
       "</style>\n",
       "<table border=\"1\" class=\"dataframe\">\n",
       "  <thead>\n",
       "    <tr style=\"text-align: right;\">\n",
       "      <th></th>\n",
       "      <th>test_group</th>\n",
       "      <th>ARPU</th>\n",
       "      <th>ARPAU</th>\n",
       "      <th>CR</th>\n",
       "      <th>CR_active</th>\n",
       "      <th>CR_active_math</th>\n",
       "    </tr>\n",
       "  </thead>\n",
       "  <tbody>\n",
       "    <tr>\n",
       "      <th>0</th>\n",
       "      <td>control</td>\n",
       "      <td>4540.983607</td>\n",
       "      <td>10393.700787</td>\n",
       "      <td>4.918033</td>\n",
       "      <td>11.023622</td>\n",
       "      <td>6.122449</td>\n",
       "    </tr>\n",
       "    <tr>\n",
       "      <th>1</th>\n",
       "      <td>pilot</td>\n",
       "      <td>11508.474576</td>\n",
       "      <td>29739.583333</td>\n",
       "      <td>10.847458</td>\n",
       "      <td>26.041667</td>\n",
       "      <td>9.523810</td>\n",
       "    </tr>\n",
       "  </tbody>\n",
       "</table>\n",
       "</div>"
      ],
      "text/plain": [
       "  test_group          ARPU         ARPAU         CR  CR_active  CR_active_math\n",
       "0    control   4540.983607  10393.700787   4.918033  11.023622        6.122449\n",
       "1      pilot  11508.474576  29739.583333  10.847458  26.041667        9.523810"
      ]
     },
     "execution_count": 11,
     "metadata": {},
     "output_type": "execute_result"
    }
   ],
   "source": [
    "# пишем запрос, и получаем данные из clickhouse в pandas dataframe\n",
    "query = \"\"\"\n",
    "WITH\n",
    "         for_ARPU  as (\n",
    "            select test_grp, sum(money)/count(distinct(st_id)) as ARPU\n",
    "            from studs left join default.final_project_check on studs.st_id = final_project_check.st_id\n",
    "            group by test_grp), \n",
    "         for_CR as (\n",
    "            select test_grp, (countIf(distinct(final_project_check.st_id), final_project_check.st_id != '') \n",
    "            /count(distinct(st_id)))* 100 as CR\n",
    "            from studs left join default.final_project_check on studs.st_id = final_project_check.st_id\n",
    "            group by test_grp), \n",
    "         for_CR_active as (\n",
    "            select test_grp, (countIf(distinct(final_project_check.st_id), final_project_check.st_id != '') \n",
    "            /count(distinct(st_id)))* 100 as CR_active\n",
    "            from studs left join default.final_project_check on studs.st_id = final_project_check.st_id\n",
    "            where st_id in (select st_id\n",
    "                          from peas\n",
    "                           where correct = 1\n",
    "                          group by st_id\n",
    "                           having count(timest) > 10)\n",
    "            group by test_grp),\n",
    "         for_ARPAU as (\n",
    "            select test_grp, sum(money) /count(distinct(st_id)) as ARPAU\n",
    "            from studs left join default.final_project_check on studs.st_id = final_project_check.st_id\n",
    "            where st_id in (select st_id\n",
    "                           from peas\n",
    "                           where correct = 1\n",
    "                          group by st_id\n",
    "                          having count(timest) > 10)\n",
    "            group by test_grp),\n",
    "          for_CR_active_math as (\n",
    "            select test_grp, (countIf(distinct(final_project_check.st_id), subject = 'Math') \n",
    "            /count(distinct(st_id)))* 100 as CR_active_math\n",
    "            from studs left join default.final_project_check on studs.st_id = final_project_check.st_id\n",
    "            where st_id in (select st_id               \n",
    "                           from peas\n",
    "                          where subject = 'Math' and correct = 1\n",
    "                         group by st_id\n",
    "                         having count(timest) >= 2)\n",
    "            group by test_grp)\n",
    "\n",
    "\n",
    "select for_ARPU.test_grp as test_group, ARPU, ARPAU, CR, CR_active, CR_active_math\n",
    "from for_ARPU join for_CR on for_ARPU.test_grp = for_CR.test_grp\n",
    "                join for_CR_active on for_CR.test_grp = for_CR_active.test_grp \n",
    "                join for_ARPAU on for_CR_active.test_grp = for_ARPAU.test_grp \n",
    "                join for_CR_active_math on for_ARPAU.test_grp =  for_CR_active_math.test_grp\n",
    "\"\"\"\n",
    "students_2 = ph.read_clickhouse(query, connection=connection_default)\n",
    "students_2"
   ]
  },
  {
   "cell_type": "markdown",
   "metadata": {},
   "source": [
    "На основе метрик можно сказать, что новый экран оплаты увеличит конверсию и доход компании. "
   ]
  },
  {
   "cell_type": "code",
   "execution_count": null,
   "metadata": {},
   "outputs": [],
   "source": []
  }
 ],
 "metadata": {
  "kernelspec": {
   "display_name": "Python 3",
   "language": "python",
   "name": "python3"
  },
  "language_info": {
   "codemirror_mode": {
    "name": "ipython",
    "version": 3
   },
   "file_extension": ".py",
   "mimetype": "text/x-python",
   "name": "python",
   "nbconvert_exporter": "python",
   "pygments_lexer": "ipython3",
   "version": "3.7.3"
  }
 },
 "nbformat": 4,
 "nbformat_minor": 4
}
